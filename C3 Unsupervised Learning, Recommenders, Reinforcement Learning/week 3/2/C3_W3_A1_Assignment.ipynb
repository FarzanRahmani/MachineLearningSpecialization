{
 "cells": [
  {
   "cell_type": "markdown",
   "metadata": {},
   "source": [
    "# Deep Q-Learning - Lunar Lander\n",
    "\n",
    "In this assignment, you will train an agent to land a lunar lander safely on a landing pad on the surface of the moon.\n",
    "\n",
    "\n",
    "# Outline\n",
    "- [ 1 - Import Packages <img align=\"Right\" src=\"./images/lunar_lander.gif\" width = 60% >](#1)\n",
    "- [ 2 - Hyperparameters](#2)\n",
    "- [ 3 - The Lunar Lander Environment](#3)\n",
    "  - [ 3.1 Action Space](#3.1)\n",
    "  - [ 3.2 Observation Space](#3.2)\n",
    "  - [ 3.3 Rewards](#3.3)\n",
    "  - [ 3.4 Episode Termination](#3.4)\n",
    "- [ 4 - Load the Environment](#4)\n",
    "- [ 5 - Interacting with the Gym Environment](#5)\n",
    "    - [ 5.1 Exploring the Environment's Dynamics](#5.1)\n",
    "- [ 6 - Deep Q-Learning](#6)\n",
    "  - [ 6.1 Target Network](#6.1)\n",
    "    - [ Exercise 1](#ex01)\n",
    "  - [ 6.2 Experience Replay](#6.2)\n",
    "- [ 7 - Deep Q-Learning Algorithm with Experience Replay](#7)\n",
    "  - [ Exercise 2](#ex02)\n",
    "- [ 8 - Update the Network Weights](#8)\n",
    "- [ 9 - Train the Agent](#9)\n",
    "- [ 10 - See the Trained Agent In Action](#10)\n",
    "- [ 11 - Congratulations!](#11)\n",
    "- [ 12 - References](#12)\n"
   ]
  },
  {
   "cell_type": "markdown",
   "metadata": {},
   "source": [
    "_**NOTE:** To prevent errors from the autograder, you are not allowed to edit or delete non-graded cells in this lab. Please also refrain from adding any new cells. \n",
    "**Once you have passed this assignment** and want to experiment with any of the non-graded code, you may follow the instructions at the bottom of this notebook._"
   ]
  },
  {
   "cell_type": "markdown",
   "metadata": {},
   "source": [
    "<a name=\"1\"></a>\n",
    "## 1 - Import Packages\n",
    "\n",
    "We'll make use of the following packages:\n",
    "- `numpy` is a package for scientific computing in python.\n",
    "- `deque` will be our data structure for our memory buffer.\n",
    "- `namedtuple` will be used to store the experience tuples.\n",
    "- The `gym` toolkit is a collection of environments that can be used to test reinforcement learning algorithms. We should note that in this notebook we are using `gym` version `0.24.0`.\n",
    "- `PIL.Image` and `pyvirtualdisplay` are needed to render the Lunar Lander environment.\n",
    "- We will use several modules from the `tensorflow.keras` framework for building deep learning models.\n",
    "- `utils` is a module that contains helper functions for this assignment. You do not need to modify the code in this file.\n",
    "\n",
    "Run the cell below to import all the necessary packages."
   ]
  },
  {
   "cell_type": "code",
   "execution_count": 10,
   "metadata": {
    "deletable": false,
    "editable": false,
    "id": "KYbOPKRtfQOr"
   },
   "outputs": [],
   "source": [
    "import time\n",
    "from collections import deque, namedtuple\n",
    "\n",
    "import gym\n",
    "import numpy as np\n",
    "import PIL.Image\n",
    "import tensorflow as tf\n",
    "import utils\n",
    "\n",
    "from pyvirtualdisplay import Display\n",
    "from tensorflow.keras import Sequential\n",
    "from tensorflow.keras.layers import Dense, Input\n",
    "from tensorflow.keras.losses import MSE\n",
    "from tensorflow.keras.optimizers import Adam"
   ]
  },
  {
   "cell_type": "code",
   "execution_count": 11,
   "metadata": {
    "deletable": false,
    "editable": false
   },
   "outputs": [],
   "source": [
    "# Set up a virtual display to render the Lunar Lander environment.\n",
    "Display(visible=0, size=(840, 480)).start();\n",
    "\n",
    "# Set the random seed for TensorFlow\n",
    "tf.random.set_seed(utils.SEED)"
   ]
  },
  {
   "cell_type": "markdown",
   "metadata": {},
   "source": [
    "<a name=\"2\"></a>\n",
    "## 2 - Hyperparameters\n",
    "\n",
    "Run the cell below to set the hyperparameters."
   ]
  },
  {
   "cell_type": "code",
   "execution_count": 12,
   "metadata": {
    "deletable": false,
    "editable": false
   },
   "outputs": [],
   "source": [
    "MEMORY_SIZE = 100_000     # size of memory buffer\n",
    "GAMMA = 0.995             # discount factor\n",
    "ALPHA = 1e-3              # learning rate  \n",
    "NUM_STEPS_FOR_UPDATE = 4  # perform a learning update every C time steps"
   ]
  },
  {
   "cell_type": "markdown",
   "metadata": {},
   "source": [
    "<a name=\"3\"></a>\n",
    "## 3 - The Lunar Lander Environment\n",
    "\n",
    "In this notebook we will be using [OpenAI's Gym Library](https://www.gymlibrary.dev/). The Gym library provides a wide variety of environments for reinforcement learning. To put it simply, an environment represents a problem or task to be solved. In this notebook, we will try to solve the Lunar Lander environment using reinforcement learning.\n",
    "\n",
    "The goal of the Lunar Lander environment is to land the lunar lander safely on the landing pad on the surface of the moon. The landing pad is designated by two flag poles and its center is at coordinates `(0,0)` but the lander is also allowed to land outside of the landing pad. The lander starts at the top center of the environment with a random initial force applied to its center of mass and has infinite fuel. The environment is considered solved if you get `200` points. \n",
    "\n",
    "<br>\n",
    "<br>\n",
    "<figure>\n",
    "  <img src = \"images/lunar_lander.gif\" width = 40%>\n",
    "      <figcaption style = \"text-align: center; font-style: italic\">Fig 1. Lunar Lander Environment.</figcaption>\n",
    "</figure>\n",
    "\n",
    "\n",
    "\n",
    "<a name=\"3.1\"></a>\n",
    "### 3.1 Action Space\n",
    "\n",
    "The agent has four discrete actions available:\n",
    "\n",
    "* Do nothing.\n",
    "* Fire right engine.\n",
    "* Fire main engine.\n",
    "* Fire left engine.\n",
    "\n",
    "Each action has a corresponding numerical value:\n",
    "\n",
    "```python\n",
    "Do nothing = 0\n",
    "Fire right engine = 1\n",
    "Fire main engine = 2\n",
    "Fire left engine = 3\n",
    "```\n",
    "\n",
    "<a name=\"3.2\"></a>\n",
    "### 3.2 Observation Space\n",
    "\n",
    "The agent's observation space consists of a state vector with 8 variables:\n",
    "\n",
    "* Its $(x,y)$ coordinates. The landing pad is always at coordinates $(0,0)$.\n",
    "* Its linear velocities $(\\dot x,\\dot y)$.\n",
    "* Its angle $\\theta$.\n",
    "* Its angular velocity $\\dot \\theta$.\n",
    "* Two booleans, $l$ and $r$, that represent whether each leg is in contact with the ground or not.\n",
    "\n",
    "<a name=\"3.3\"></a>\n",
    "### 3.3 Rewards\n",
    "\n",
    "After every step, a reward is granted. The total reward of an episode is the sum of the rewards for all the steps within that episode.\n",
    "\n",
    "For each step, the reward:\n",
    "- is increased/decreased the closer/further the lander is to the landing pad.\n",
    "- is increased/decreased the slower/faster the lander is moving.\n",
    "- is decreased the more the lander is tilted (angle not horizontal).\n",
    "- is increased by 10 points for each leg that is in contact with the ground.\n",
    "- is decreased by 0.03 points each frame a side engine is firing.\n",
    "- is decreased by 0.3 points each frame the main engine is firing.\n",
    "\n",
    "The episode receives an additional reward of -100 or +100 points for crashing or landing safely respectively.\n",
    "\n",
    "<a name=\"3.4\"></a>\n",
    "### 3.4 Episode Termination\n",
    "\n",
    "An episode ends (i.e the environment enters a terminal state) if:\n",
    "\n",
    "* The lunar lander crashes (i.e if the body of the lunar lander comes in contact with the surface of the moon).\n",
    "\n",
    "* The absolute value of the lander's $x$-coordinate is greater than 1 (i.e. it goes beyond the left or right border)\n",
    "\n",
    "You can check out the [Open AI Gym documentation](https://www.gymlibrary.dev/environments/box2d/lunar_lander/) for a full description of the environment. "
   ]
  },
  {
   "cell_type": "markdown",
   "metadata": {},
   "source": [
    "<a name=\"4\"></a>\n",
    "## 4 - Load the Environment\n",
    "\n",
    "We start by loading the `LunarLander-v2` environment from the `gym` library by using the `.make()` method. `LunarLander-v2` is the latest version of the Lunar Lander environment and you can read about its version history in the [Open AI Gym documentation](https://www.gymlibrary.dev/environments/box2d/lunar_lander/#version-history)."
   ]
  },
  {
   "cell_type": "code",
   "execution_count": 13,
   "metadata": {
    "deletable": false,
    "editable": false,
    "id": "ILVMYKewfR0n"
   },
   "outputs": [],
   "source": [
    "env = gym.make('LunarLander-v2')"
   ]
  },
  {
   "cell_type": "markdown",
   "metadata": {},
   "source": [
    "Once we load the environment we use the `.reset()` method to reset the environment to the initial state. The lander starts at the top center of the environment and we can render the first frame of the environment by using the `.render()` method."
   ]
  },
  {
   "cell_type": "code",
   "execution_count": 14,
   "metadata": {
    "deletable": false,
    "editable": false
   },
   "outputs": [
    {
     "data": {
      "image/png": "[encoded data removed]",
      "text/plain": [
       "<PIL.Image.Image image mode=RGB size=600x400 at 0x7FB3CA49BC90>"
      ]
     },
     "execution_count": 14,
     "metadata": {},
     "output_type": "execute_result"
    }
   ],
   "source": [
    "env.reset()\n",
    "PIL.Image.fromarray(env.render(mode='rgb_array'))"
   ]
  },
  {
   "cell_type": "markdown",
   "metadata": {},
   "source": [
    "In order to build our neural network later on we need to know the size of the state vector and the number of valid actions. We can get this information from our environment by using the `.observation_space.shape` and `action_space.n` methods, respectively."
   ]
  },
  {
   "cell_type": "code",
   "execution_count": 15,
   "metadata": {
    "deletable": false,
    "editable": false,
    "id": "x3fdqdG4CUu2"
   },
   "outputs": [
    {
     "name": "stdout",
     "output_type": "stream",
     "text": [
      "State Shape: (8,)\n",
      "Number of actions: 4\n"
     ]
    }
   ],
   "source": [
    "state_size = env.observation_space.shape\n",
    "num_actions = env.action_space.n\n",
    "\n",
    "print('State Shape:', state_size)\n",
    "print('Number of actions:', num_actions)"
   ]
  },
  {
   "cell_type": "markdown",
   "metadata": {},
   "source": [
    "<a name=\"5\"></a>\n",
    "## 5 - Interacting with the Gym Environment\n",
    "\n",
    "The Gym library implements the standard “agent-environment loop” formalism:\n",
    "\n",
    "<br>\n",
    "<center>\n",
    "<video src = \"./videos/rl_formalism.m4v\" width=\"840\" height=\"480\" controls autoplay loop poster=\"./images/rl_formalism.png\"> </video>\n",
    "<figcaption style = \"text-align:center; font-style:italic\">Fig 2. Agent-environment Loop Formalism.</figcaption>\n",
    "</center>\n",
    "<br>\n",
    "\n",
    "In the standard “agent-environment loop” formalism, an agent interacts with the environment in discrete time steps $t=0,1,2,...$. At each time step $t$, the agent uses a policy $\\pi$ to select an action $A_t$ based on its observation of the environment's state $S_t$. The agent receives a numerical reward $R_t$ and on the next time step, moves to a new state $S_{t+1}$.\n",
    "\n",
    "<a name=\"5.1\"></a>\n",
    "### 5.1 Exploring the Environment's Dynamics\n",
    "\n",
    "In Open AI's Gym environments, we use the `.step()` method to run a single time step of the environment's dynamics. In the version of `gym` that we are using the `.step()` method accepts an action and returns four values:\n",
    "\n",
    "* `observation` (**object**): an environment-specific object representing your observation of the environment. In the Lunar Lander environment this corresponds to a numpy array containing the positions and velocities of the lander as described in section [3.2 Observation Space](#3.2).\n",
    "\n",
    "\n",
    "* `reward` (**float**): amount of reward returned as a result of taking the given action. In the Lunar Lander environment this corresponds to a float of type `numpy.float64` as described in section [3.3 Rewards](#3.3).\n",
    "\n",
    "\n",
    "* `done` (**boolean**): When done is `True`, it indicates the episode has terminated and it’s time to reset the environment. \n",
    "\n",
    "\n",
    "* `info` (**dictionary**): diagnostic information useful for debugging. We won't be using this variable in this notebook but it is shown here for completeness.\n",
    "\n",
    "To begin an episode, we need to reset the environment to an initial state. We do this by using the `.reset()` method. "
   ]
  },
  {
   "cell_type": "code",
   "execution_count": 16,
   "metadata": {
    "deletable": false,
    "editable": false
   },
   "outputs": [],
   "source": [
    "# Reset the environment and get the initial state.\n",
    "current_state = env.reset()"
   ]
  },
  {
   "cell_type": "markdown",
   "metadata": {},
   "source": [
    "Once the environment is reset, the agent can start taking actions in the environment by using the `.step()` method. Note that the agent can only take one action per time step. \n",
    "\n",
    "In the cell below you can select different actions and see how the returned values change depending on the action taken. Remember that in this environment the agent has four discrete actions available and we specify them in code by using their corresponding numerical value:\n",
    "\n",
    "```python\n",
    "Do nothing = 0\n",
    "Fire right engine = 1\n",
    "Fire main engine = 2\n",
    "Fire left engine = 3\n",
    "```"
   ]
  },
  {
   "cell_type": "code",
   "execution_count": 17,
   "metadata": {
    "deletable": false
   },
   "outputs": [
    {
     "data": {
      "text/html": [
       "<style  type=\"text/css\" >\n",
       "    #T_a9230cbe_69f5_11ee_b7dc_0242ac12002d th {\n",
       "          border: 1px solid grey;\n",
       "          text-align: center;\n",
       "    }    #T_a9230cbe_69f5_11ee_b7dc_0242ac12002d tbody td {\n",
       "          border: 1px solid grey;\n",
       "          text-align: center;\n",
       "    }    #T_a9230cbe_69f5_11ee_b7dc_0242ac12002drow0_col0 {\n",
       "            background-color :  grey;\n",
       "        }    #T_a9230cbe_69f5_11ee_b7dc_0242ac12002drow1_col1 {\n",
       "            background-color :  grey;\n",
       "        }    #T_a9230cbe_69f5_11ee_b7dc_0242ac12002drow1_col2 {\n",
       "            background-color :  grey;\n",
       "        }    #T_a9230cbe_69f5_11ee_b7dc_0242ac12002drow1_col3 {\n",
       "            background-color :  grey;\n",
       "        }    #T_a9230cbe_69f5_11ee_b7dc_0242ac12002drow1_col4 {\n",
       "            background-color :  grey;\n",
       "        }    #T_a9230cbe_69f5_11ee_b7dc_0242ac12002drow1_col5 {\n",
       "            background-color :  grey;\n",
       "        }    #T_a9230cbe_69f5_11ee_b7dc_0242ac12002drow1_col6 {\n",
       "            background-color :  grey;\n",
       "        }    #T_a9230cbe_69f5_11ee_b7dc_0242ac12002drow1_col7 {\n",
       "            background-color :  grey;\n",
       "        }    #T_a9230cbe_69f5_11ee_b7dc_0242ac12002drow1_col8 {\n",
       "            background-color :  grey;\n",
       "        }    #T_a9230cbe_69f5_11ee_b7dc_0242ac12002drow1_col9 {\n",
       "            background-color :  grey;\n",
       "        }    #T_a9230cbe_69f5_11ee_b7dc_0242ac12002drow1_col10 {\n",
       "            background-color :  grey;\n",
       "        }    #T_a9230cbe_69f5_11ee_b7dc_0242ac12002drow1_col11 {\n",
       "            background-color :  grey;\n",
       "        }    #T_a9230cbe_69f5_11ee_b7dc_0242ac12002drow2_col0 {\n",
       "            background-color :  grey;\n",
       "        }    #T_a9230cbe_69f5_11ee_b7dc_0242ac12002drow3_col1 {\n",
       "            background-color :  grey;\n",
       "        }    #T_a9230cbe_69f5_11ee_b7dc_0242ac12002drow3_col2 {\n",
       "            background-color :  grey;\n",
       "        }    #T_a9230cbe_69f5_11ee_b7dc_0242ac12002drow3_col3 {\n",
       "            background-color :  grey;\n",
       "        }    #T_a9230cbe_69f5_11ee_b7dc_0242ac12002drow3_col4 {\n",
       "            background-color :  grey;\n",
       "        }    #T_a9230cbe_69f5_11ee_b7dc_0242ac12002drow3_col5 {\n",
       "            background-color :  grey;\n",
       "        }    #T_a9230cbe_69f5_11ee_b7dc_0242ac12002drow3_col6 {\n",
       "            background-color :  grey;\n",
       "        }    #T_a9230cbe_69f5_11ee_b7dc_0242ac12002drow3_col7 {\n",
       "            background-color :  grey;\n",
       "        }    #T_a9230cbe_69f5_11ee_b7dc_0242ac12002drow3_col8 {\n",
       "            background-color :  grey;\n",
       "        }    #T_a9230cbe_69f5_11ee_b7dc_0242ac12002drow3_col9 {\n",
       "            background-color :  grey;\n",
       "        }    #T_a9230cbe_69f5_11ee_b7dc_0242ac12002drow3_col10 {\n",
       "            background-color :  grey;\n",
       "        }    #T_a9230cbe_69f5_11ee_b7dc_0242ac12002drow3_col11 {\n",
       "            background-color :  grey;\n",
       "        }    #T_a9230cbe_69f5_11ee_b7dc_0242ac12002drow4_col1 {\n",
       "            background-color :  grey;\n",
       "        }    #T_a9230cbe_69f5_11ee_b7dc_0242ac12002drow4_col2 {\n",
       "            background-color :  grey;\n",
       "        }    #T_a9230cbe_69f5_11ee_b7dc_0242ac12002drow4_col3 {\n",
       "            background-color :  grey;\n",
       "        }    #T_a9230cbe_69f5_11ee_b7dc_0242ac12002drow4_col4 {\n",
       "            background-color :  grey;\n",
       "        }    #T_a9230cbe_69f5_11ee_b7dc_0242ac12002drow4_col5 {\n",
       "            background-color :  grey;\n",
       "        }    #T_a9230cbe_69f5_11ee_b7dc_0242ac12002drow4_col6 {\n",
       "            background-color :  grey;\n",
       "        }    #T_a9230cbe_69f5_11ee_b7dc_0242ac12002drow4_col7 {\n",
       "            background-color :  grey;\n",
       "        }    #T_a9230cbe_69f5_11ee_b7dc_0242ac12002drow4_col8 {\n",
       "            background-color :  grey;\n",
       "        }    #T_a9230cbe_69f5_11ee_b7dc_0242ac12002drow4_col9 {\n",
       "            background-color :  grey;\n",
       "        }    #T_a9230cbe_69f5_11ee_b7dc_0242ac12002drow4_col10 {\n",
       "            background-color :  grey;\n",
       "        }    #T_a9230cbe_69f5_11ee_b7dc_0242ac12002drow4_col11 {\n",
       "            background-color :  grey;\n",
       "        }</style><table id=\"T_a9230cbe_69f5_11ee_b7dc_0242ac12002d\" ><thead>    <tr>        <th class=\"blank level0\" ></th>        <th class=\"col_heading level0 col0\" ></th>        <th class=\"col_heading level0 col1\" colspan=8>State Vector</th>        <th class=\"col_heading level0 col9\" colspan=3>Derived from the State Vector (the closer to zero, the better)</th>    </tr>    <tr>        <th class=\"blank level1\" ></th>        <th class=\"col_heading level1 col0\" ></th>        <th class=\"col_heading level1 col1\" colspan=2>Coordinate</th>        <th class=\"col_heading level1 col3\" colspan=2>Velocity</th>        <th class=\"col_heading level1 col5\" colspan=2>Tilting</th>        <th class=\"col_heading level1 col7\" colspan=2>Ground contact</th>        <th class=\"col_heading level1 col9\" >Distance from landing pad</th>        <th class=\"col_heading level1 col10\" >Velocity</th>        <th class=\"col_heading level1 col11\" >Tilting Angle (absolute value)</th>    </tr>    <tr>        <th class=\"blank level2\" ></th>        <th class=\"col_heading level2 col0\" ></th>        <th class=\"col_heading level2 col1\" >X (Horizontal)</th>        <th class=\"col_heading level2 col2\" >Y (Vertical)</th>        <th class=\"col_heading level2 col3\" >X (Horizontal)</th>        <th class=\"col_heading level2 col4\" >Y (Vertical)</th>        <th class=\"col_heading level2 col5\" >Angle</th>        <th class=\"col_heading level2 col6\" >Angular Velocity</th>        <th class=\"col_heading level2 col7\" >Left Leg?</th>        <th class=\"col_heading level2 col8\" >Right Leg?</th>        <th class=\"col_heading level2 col9\" ></th>        <th class=\"col_heading level2 col10\" ></th>        <th class=\"col_heading level2 col11\" ></th>    </tr></thead><tbody>\n",
       "                <tr>\n",
       "                        <th id=\"T_a9230cbe_69f5_11ee_b7dc_0242ac12002dlevel0_row0\" class=\"row_heading level0 row0\" >Current State</th>\n",
       "                        <td id=\"T_a9230cbe_69f5_11ee_b7dc_0242ac12002drow0_col0\" class=\"data row0 col0\" ></td>\n",
       "                        <td id=\"T_a9230cbe_69f5_11ee_b7dc_0242ac12002drow0_col1\" class=\"data row0 col1\" >0.001919</td>\n",
       "                        <td id=\"T_a9230cbe_69f5_11ee_b7dc_0242ac12002drow0_col2\" class=\"data row0 col2\" >1.422301</td>\n",
       "                        <td id=\"T_a9230cbe_69f5_11ee_b7dc_0242ac12002drow0_col3\" class=\"data row0 col3\" >0.194400</td>\n",
       "                        <td id=\"T_a9230cbe_69f5_11ee_b7dc_0242ac12002drow0_col4\" class=\"data row0 col4\" >0.505814</td>\n",
       "                        <td id=\"T_a9230cbe_69f5_11ee_b7dc_0242ac12002drow0_col5\" class=\"data row0 col5\" >-0.002217</td>\n",
       "                        <td id=\"T_a9230cbe_69f5_11ee_b7dc_0242ac12002drow0_col6\" class=\"data row0 col6\" >-0.044034</td>\n",
       "                        <td id=\"T_a9230cbe_69f5_11ee_b7dc_0242ac12002drow0_col7\" class=\"data row0 col7\" >False</td>\n",
       "                        <td id=\"T_a9230cbe_69f5_11ee_b7dc_0242ac12002drow0_col8\" class=\"data row0 col8\" >False</td>\n",
       "                        <td id=\"T_a9230cbe_69f5_11ee_b7dc_0242ac12002drow0_col9\" class=\"data row0 col9\" >1.422302</td>\n",
       "                        <td id=\"T_a9230cbe_69f5_11ee_b7dc_0242ac12002drow0_col10\" class=\"data row0 col10\" >0.541885</td>\n",
       "                        <td id=\"T_a9230cbe_69f5_11ee_b7dc_0242ac12002drow0_col11\" class=\"data row0 col11\" >0.002217</td>\n",
       "            </tr>\n",
       "            <tr>\n",
       "                        <th id=\"T_a9230cbe_69f5_11ee_b7dc_0242ac12002dlevel0_row1\" class=\"row_heading level0 row1\" >Action</th>\n",
       "                        <td id=\"T_a9230cbe_69f5_11ee_b7dc_0242ac12002drow1_col0\" class=\"data row1 col0\" >Do nothing</td>\n",
       "                        <td id=\"T_a9230cbe_69f5_11ee_b7dc_0242ac12002drow1_col1\" class=\"data row1 col1\" ></td>\n",
       "                        <td id=\"T_a9230cbe_69f5_11ee_b7dc_0242ac12002drow1_col2\" class=\"data row1 col2\" ></td>\n",
       "                        <td id=\"T_a9230cbe_69f5_11ee_b7dc_0242ac12002drow1_col3\" class=\"data row1 col3\" ></td>\n",
       "                        <td id=\"T_a9230cbe_69f5_11ee_b7dc_0242ac12002drow1_col4\" class=\"data row1 col4\" ></td>\n",
       "                        <td id=\"T_a9230cbe_69f5_11ee_b7dc_0242ac12002drow1_col5\" class=\"data row1 col5\" ></td>\n",
       "                        <td id=\"T_a9230cbe_69f5_11ee_b7dc_0242ac12002drow1_col6\" class=\"data row1 col6\" ></td>\n",
       "                        <td id=\"T_a9230cbe_69f5_11ee_b7dc_0242ac12002drow1_col7\" class=\"data row1 col7\" ></td>\n",
       "                        <td id=\"T_a9230cbe_69f5_11ee_b7dc_0242ac12002drow1_col8\" class=\"data row1 col8\" ></td>\n",
       "                        <td id=\"T_a9230cbe_69f5_11ee_b7dc_0242ac12002drow1_col9\" class=\"data row1 col9\" ></td>\n",
       "                        <td id=\"T_a9230cbe_69f5_11ee_b7dc_0242ac12002drow1_col10\" class=\"data row1 col10\" ></td>\n",
       "                        <td id=\"T_a9230cbe_69f5_11ee_b7dc_0242ac12002drow1_col11\" class=\"data row1 col11\" ></td>\n",
       "            </tr>\n",
       "            <tr>\n",
       "                        <th id=\"T_a9230cbe_69f5_11ee_b7dc_0242ac12002dlevel0_row2\" class=\"row_heading level0 row2\" >Next State</th>\n",
       "                        <td id=\"T_a9230cbe_69f5_11ee_b7dc_0242ac12002drow2_col0\" class=\"data row2 col0\" ></td>\n",
       "                        <td id=\"T_a9230cbe_69f5_11ee_b7dc_0242ac12002drow2_col1\" class=\"data row2 col1\" >0.003839</td>\n",
       "                        <td id=\"T_a9230cbe_69f5_11ee_b7dc_0242ac12002drow2_col2\" class=\"data row2 col2\" >1.433103</td>\n",
       "                        <td id=\"T_a9230cbe_69f5_11ee_b7dc_0242ac12002drow2_col3\" class=\"data row2 col3\" >0.194137</td>\n",
       "                        <td id=\"T_a9230cbe_69f5_11ee_b7dc_0242ac12002drow2_col4\" class=\"data row2 col4\" >0.480094</td>\n",
       "                        <td id=\"T_a9230cbe_69f5_11ee_b7dc_0242ac12002drow2_col5\" class=\"data row2 col5\" >-0.004393</td>\n",
       "                        <td id=\"T_a9230cbe_69f5_11ee_b7dc_0242ac12002drow2_col6\" class=\"data row2 col6\" >-0.043519</td>\n",
       "                        <td id=\"T_a9230cbe_69f5_11ee_b7dc_0242ac12002drow2_col7\" class=\"data row2 col7\" >False</td>\n",
       "                        <td id=\"T_a9230cbe_69f5_11ee_b7dc_0242ac12002drow2_col8\" class=\"data row2 col8\" >False</td>\n",
       "                        <td id=\"T_a9230cbe_69f5_11ee_b7dc_0242ac12002drow2_col9\" class=\"data row2 col9\" >1.433108</td>\n",
       "                        <td id=\"T_a9230cbe_69f5_11ee_b7dc_0242ac12002drow2_col10\" class=\"data row2 col10\" >0.517860</td>\n",
       "                        <td id=\"T_a9230cbe_69f5_11ee_b7dc_0242ac12002drow2_col11\" class=\"data row2 col11\" >0.004393</td>\n",
       "            </tr>\n",
       "            <tr>\n",
       "                        <th id=\"T_a9230cbe_69f5_11ee_b7dc_0242ac12002dlevel0_row3\" class=\"row_heading level0 row3\" >Reward</th>\n",
       "                        <td id=\"T_a9230cbe_69f5_11ee_b7dc_0242ac12002drow3_col0\" class=\"data row3 col0\" >1.104326</td>\n",
       "                        <td id=\"T_a9230cbe_69f5_11ee_b7dc_0242ac12002drow3_col1\" class=\"data row3 col1\" ></td>\n",
       "                        <td id=\"T_a9230cbe_69f5_11ee_b7dc_0242ac12002drow3_col2\" class=\"data row3 col2\" ></td>\n",
       "                        <td id=\"T_a9230cbe_69f5_11ee_b7dc_0242ac12002drow3_col3\" class=\"data row3 col3\" ></td>\n",
       "                        <td id=\"T_a9230cbe_69f5_11ee_b7dc_0242ac12002drow3_col4\" class=\"data row3 col4\" ></td>\n",
       "                        <td id=\"T_a9230cbe_69f5_11ee_b7dc_0242ac12002drow3_col5\" class=\"data row3 col5\" ></td>\n",
       "                        <td id=\"T_a9230cbe_69f5_11ee_b7dc_0242ac12002drow3_col6\" class=\"data row3 col6\" ></td>\n",
       "                        <td id=\"T_a9230cbe_69f5_11ee_b7dc_0242ac12002drow3_col7\" class=\"data row3 col7\" ></td>\n",
       "                        <td id=\"T_a9230cbe_69f5_11ee_b7dc_0242ac12002drow3_col8\" class=\"data row3 col8\" ></td>\n",
       "                        <td id=\"T_a9230cbe_69f5_11ee_b7dc_0242ac12002drow3_col9\" class=\"data row3 col9\" ></td>\n",
       "                        <td id=\"T_a9230cbe_69f5_11ee_b7dc_0242ac12002drow3_col10\" class=\"data row3 col10\" ></td>\n",
       "                        <td id=\"T_a9230cbe_69f5_11ee_b7dc_0242ac12002drow3_col11\" class=\"data row3 col11\" ></td>\n",
       "            </tr>\n",
       "            <tr>\n",
       "                        <th id=\"T_a9230cbe_69f5_11ee_b7dc_0242ac12002dlevel0_row4\" class=\"row_heading level0 row4\" >Episode Terminated</th>\n",
       "                        <td id=\"T_a9230cbe_69f5_11ee_b7dc_0242ac12002drow4_col0\" class=\"data row4 col0\" >False</td>\n",
       "                        <td id=\"T_a9230cbe_69f5_11ee_b7dc_0242ac12002drow4_col1\" class=\"data row4 col1\" ></td>\n",
       "                        <td id=\"T_a9230cbe_69f5_11ee_b7dc_0242ac12002drow4_col2\" class=\"data row4 col2\" ></td>\n",
       "                        <td id=\"T_a9230cbe_69f5_11ee_b7dc_0242ac12002drow4_col3\" class=\"data row4 col3\" ></td>\n",
       "                        <td id=\"T_a9230cbe_69f5_11ee_b7dc_0242ac12002drow4_col4\" class=\"data row4 col4\" ></td>\n",
       "                        <td id=\"T_a9230cbe_69f5_11ee_b7dc_0242ac12002drow4_col5\" class=\"data row4 col5\" ></td>\n",
       "                        <td id=\"T_a9230cbe_69f5_11ee_b7dc_0242ac12002drow4_col6\" class=\"data row4 col6\" ></td>\n",
       "                        <td id=\"T_a9230cbe_69f5_11ee_b7dc_0242ac12002drow4_col7\" class=\"data row4 col7\" ></td>\n",
       "                        <td id=\"T_a9230cbe_69f5_11ee_b7dc_0242ac12002drow4_col8\" class=\"data row4 col8\" ></td>\n",
       "                        <td id=\"T_a9230cbe_69f5_11ee_b7dc_0242ac12002drow4_col9\" class=\"data row4 col9\" ></td>\n",
       "                        <td id=\"T_a9230cbe_69f5_11ee_b7dc_0242ac12002drow4_col10\" class=\"data row4 col10\" ></td>\n",
       "                        <td id=\"T_a9230cbe_69f5_11ee_b7dc_0242ac12002drow4_col11\" class=\"data row4 col11\" ></td>\n",
       "            </tr>\n",
       "    </tbody></table>"
      ],
      "text/plain": [
       "<pandas.io.formats.style.Styler at 0x7fb459599510>"
      ]
     },
     "metadata": {},
     "output_type": "display_data"
    }
   ],
   "source": [
    "# Select an action\n",
    "action = 0\n",
    "\n",
    "# Run a single time step of the environment's dynamics with the given action.\n",
    "next_state, reward, done, _ = env.step(action)\n",
    "\n",
    "# Display table with values.\n",
    "utils.display_table(current_state, action, next_state, reward, done)\n",
    "\n",
    "# Replace the `current_state` with the state after the action is taken\n",
    "current_state = next_state"
   ]
  },
  {
   "cell_type": "markdown",
   "metadata": {},
   "source": [
    "In practice, when we train the agent we use a loop to allow the agent to take many consecutive actions during an episode."
   ]
  },
  {
   "cell_type": "markdown",
   "metadata": {},
   "source": [
    "<a name=\"6\"></a>\n",
    "## 6 - Deep Q-Learning\n",
    "\n",
    "In cases where both the state and action space are discrete we can estimate the action-value function iteratively by using the Bellman equation:\n",
    "\n",
    "$$\n",
    "Q_{i+1}(s,a) = R + \\gamma \\max_{a'}Q_i(s',a')\n",
    "$$\n",
    "\n",
    "This iterative method converges to the optimal action-value function $Q^*(s,a)$ as $i\\to\\infty$. This means that the agent just needs to gradually explore the state-action space and keep updating the estimate of $Q(s,a)$ until it converges to the optimal action-value function $Q^*(s,a)$. However, in cases where the state space is continuous it becomes practically impossible to explore the entire state-action space. Consequently, this also makes it practically impossible to gradually estimate $Q(s,a)$ until it converges to $Q^*(s,a)$.\n",
    "\n",
    "In the Deep $Q$-Learning, we solve this problem by using a neural network to estimate the action-value function $Q(s,a)\\approx Q^*(s,a)$. We call this neural network a $Q$-Network and it can be trained by adjusting its weights at each iteration to minimize the mean-squared error in the Bellman equation.\n",
    "\n",
    "Unfortunately, using neural networks in reinforcement learning to estimate action-value functions has proven to be highly unstable. Luckily, there's a couple of techniques that can be employed to avoid instabilities. These techniques consist of using a ***Target Network*** and ***Experience Replay***. We will explore these two techniques in the following sections."
   ]
  },
  {
   "cell_type": "markdown",
   "metadata": {},
   "source": [
    "<a name=\"6.1\"></a>\n",
    "### 6.1 Target Network\n",
    "\n",
    "We can train the $Q$-Network by adjusting it's weights at each iteration to minimize the mean-squared error in the Bellman equation, where the target values are given by:\n",
    "\n",
    "$$\n",
    "y = R + \\gamma \\max_{a'}Q(s',a';w)\n",
    "$$\n",
    "\n",
    "where $w$ are the weights of the $Q$-Network. This means that we are adjusting the weights $w$ at each iteration to minimize the following error:\n",
    "\n",
    "$$\n",
    "\\overbrace{\\underbrace{R + \\gamma \\max_{a'}Q(s',a'; w)}_{\\rm {y~target}} - Q(s,a;w)}^{\\rm {Error}}\n",
    "$$\n",
    "\n",
    "Notice that this forms a problem because the $y$ target is changing on every iteration. Having a constantly moving target can lead to oscillations and instabilities. To avoid this, we can create\n",
    "a separate neural network for generating the $y$ targets. We call this separate neural network the **target $\\hat Q$-Network** and it will have the same architecture as the original $Q$-Network. By using the target $\\hat Q$-Network, the above error becomes:\n",
    "\n",
    "$$\n",
    "\\overbrace{\\underbrace{R + \\gamma \\max_{a'}\\hat{Q}(s',a'; w^-)}_{\\rm {y~target}} - Q(s,a;w)}^{\\rm {Error}}\n",
    "$$\n",
    "\n",
    "where $w^-$ and $w$ are the weights of the target $\\hat Q$-Network and $Q$-Network, respectively.\n",
    "\n",
    "In practice, we will use the following algorithm: every $C$ time steps we will use the $\\hat Q$-Network to generate the $y$ targets and update the weights of the target $\\hat Q$-Network using the weights of the $Q$-Network. We will update the weights $w^-$ of the the target $\\hat Q$-Network using a **soft update**. This means that we will update the weights $w^-$ using the following rule:\n",
    " \n",
    "$$\n",
    "w^-\\leftarrow \\tau w + (1 - \\tau) w^-\n",
    "$$\n",
    "\n",
    "where $\\tau\\ll 1$. By using the soft update, we are ensuring that the target values, $y$, change slowly, which greatly improves the stability of our learning algorithm."
   ]
  },
  {
   "cell_type": "markdown",
   "metadata": {},
   "source": [
    "<a name=\"ex01\"></a>\n",
    "### Exercise 1\n",
    "\n",
    "In this exercise you will create the $Q$ and target $\\hat Q$ networks and set the optimizer. Remember that the Deep $Q$-Network (DQN) is a neural network that approximates the action-value function $Q(s,a)\\approx Q^*(s,a)$. It does this by learning how to map states to $Q$ values.\n",
    "\n",
    "To solve the Lunar Lander environment, we are going to employ a DQN with the following architecture:\n",
    "\n",
    "* An `Input` layer that takes `state_size` as input.\n",
    "\n",
    "* A `Dense` layer with `64` units and a `relu` activation function.\n",
    "\n",
    "* A `Dense` layer with `64` units and a `relu` activation function.\n",
    "\n",
    "* A `Dense` layer with `num_actions` units and a `linear` activation function. This will be the output layer of our network.\n",
    "\n",
    "\n",
    "In the cell below you should create the $Q$-Network and the target $\\hat Q$-Network using the model architecture described above. Remember that both the $Q$-Network and the target $\\hat Q$-Network have the same architecture.\n",
    "\n",
    "Lastly, you should set `Adam` as the optimizer with a learning rate equal to `ALPHA`. Recall that `ALPHA` was defined in the [Hyperparameters](#2) section. We should note that for this exercise you should use the already imported packages:\n",
    "```python\n",
    "from tensorflow.keras.layers import Dense, Input\n",
    "from tensorflow.keras.optimizers import Adam\n",
    "```"
   ]
  },
  {
   "cell_type": "code",
   "execution_count": 22,
   "metadata": {
    "deletable": false
   },
   "outputs": [],
   "source": [
    "# UNQ_C1\n",
    "# GRADED CELL\n",
    "\n",
    "# Create the Q-Network\n",
    "q_network = Sequential([\n",
    "    ### START CODE HERE ### \n",
    "    Input(shape=state_size, name=\"QN_L1\"),\n",
    "    Dense(units=64, activation=\"relu\", name=\"QN_L2\"),\n",
    "    Dense(units=64, activation=\"relu\", name=\"QN_L3\"),\n",
    "    Dense(units=num_actions, activation=\"linear\", name=\"QN_L4\"),\n",
    "    ### END CODE HERE ### \n",
    "    ])\n",
    "\n",
    "# Create the target Q^-Network\n",
    "target_q_network = Sequential([\n",
    "    ### START CODE HERE ### \n",
    "    Input(shape=state_size, name=\"QhatN_L1\"),\n",
    "    Dense(units=64, activation=\"relu\", name=\"QhatN_L2\"),\n",
    "    Dense(units=64, activation=\"relu\", name=\"QhatN_L3\"),\n",
    "    Dense(units=num_actions, activation=\"linear\", name=\"QhatN_L4\"),\n",
    "    ### END CODE HERE ###\n",
    "    ])\n",
    "\n",
    "### START CODE HERE ### \n",
    "optimizer = Adam(lr=ALPHA)\n",
    "### END CODE HERE ###"
   ]
  },
  {
   "cell_type": "code",
   "execution_count": 23,
   "metadata": {
    "deletable": false,
    "editable": false
   },
   "outputs": [
    {
     "name": "stdout",
     "output_type": "stream",
     "text": [
      "\u001b[92mAll tests passed!\n",
      "\u001b[92mAll tests passed!\n",
      "\u001b[92mAll tests passed!\n"
     ]
    }
   ],
   "source": [
    "# UNIT TEST\n",
    "from public_tests import *\n",
    "\n",
    "test_network(q_network)\n",
    "test_network(target_q_network)\n",
    "test_optimizer(optimizer, ALPHA) "
   ]
  },
  {
   "cell_type": "markdown",
   "metadata": {},
   "source": [
    "<details>\n",
    "  <summary><font size=\"3\" color=\"darkgreen\"><b>Click for hints</b></font></summary>\n",
    "    \n",
    "```python\n",
    "# Create the Q-Network\n",
    "q_network = Sequential([\n",
    "    Input(shape=state_size),                      \n",
    "    Dense(units=64, activation='relu'),            \n",
    "    Dense(units=64, activation='relu'),            \n",
    "    Dense(units=num_actions, activation='linear'),\n",
    "    ])\n",
    "\n",
    "# Create the target Q^-Network\n",
    "target_q_network = Sequential([\n",
    "    Input(shape=state_size),                       \n",
    "    Dense(units=64, activation='relu'),            \n",
    "    Dense(units=64, activation='relu'),            \n",
    "    Dense(units=num_actions, activation='linear'), \n",
    "    ])\n",
    "\n",
    "optimizer = Adam(learning_rate=ALPHA)                                  \n",
    "``` "
   ]
  },
  {
   "cell_type": "markdown",
   "metadata": {},
   "source": [
    "<a name=\"6.2\"></a>\n",
    "### 6.2 Experience Replay\n",
    "\n",
    "When an agent interacts with the environment, the states, actions, and rewards the agent experiences are sequential by nature. If the agent tries to learn from these consecutive experiences it can run into problems due to the strong correlations between them. To avoid this, we employ a technique known as **Experience Replay** to generate uncorrelated experiences for training our agent. Experience replay consists of storing the agent's experiences (i.e the states, actions, and rewards the agent receives) in a memory buffer and then sampling a random mini-batch of experiences from the buffer to do the learning. The experience tuples $(S_t, A_t, R_t, S_{t+1})$ will be added to the memory buffer at each time step as the agent interacts with the environment.\n",
    "\n",
    "For convenience, we will store the experiences as named tuples."
   ]
  },
  {
   "cell_type": "code",
   "execution_count": 24,
   "metadata": {
    "deletable": false,
    "editable": false
   },
   "outputs": [],
   "source": [
    "# Store experiences as named tuples\n",
    "experience = namedtuple(\"Experience\", field_names=[\"state\", \"action\", \"reward\", \"next_state\", \"done\"])"
   ]
  },
  {
   "cell_type": "markdown",
   "metadata": {},
   "source": [
    "By using experience replay we avoid problematic correlations, oscillations and instabilities. In addition, experience replay also allows the agent to potentially use the same experience in multiple weight updates, which increases data efficiency."
   ]
  },
  {
   "cell_type": "markdown",
   "metadata": {},
   "source": [
    "<a name=\"7\"></a>\n",
    "## 7 - Deep Q-Learning Algorithm with Experience Replay\n",
    "\n",
    "Now that we know all the techniques that we are going to use, we can put them together to arrive at the Deep Q-Learning Algorithm With Experience Replay.\n",
    "<br>\n",
    "<br>\n",
    "<figure>\n",
    "  <img src = \"images/deep_q_algorithm.png\" width = 90% style = \"border: thin silver solid; padding: 0px\">\n",
    "      <figcaption style = \"text-align: center; font-style: italic\">Fig 3. Deep Q-Learning with Experience Replay.</figcaption>\n",
    "</figure>"
   ]
  },
  {
   "cell_type": "markdown",
   "metadata": {},
   "source": [
    "<a name=\"ex02\"></a>\n",
    "### Exercise 2\n",
    "\n",
    "In this exercise you will implement line ***12*** of the algorithm outlined in *Fig 3* above and you will also compute the loss between the $y$ targets and the $Q(s,a)$ values. In the cell below, complete the `compute_loss` function by setting the $y$ targets equal to:\n",
    "\n",
    "$$\n",
    "\\begin{equation}\n",
    "    y_j =\n",
    "    \\begin{cases}\n",
    "      R_j & \\text{if episode terminates at step  } j+1\\\\\n",
    "      R_j + \\gamma \\max_{a'}\\hat{Q}(s_{j+1},a') & \\text{otherwise}\\\\\n",
    "    \\end{cases}       \n",
    "\\end{equation}\n",
    "$$\n",
    "\n",
    "Here are a couple of things to note:\n",
    "\n",
    "* The `compute_loss` function takes in a mini-batch of experience tuples. This mini-batch of experience tuples is unpacked to extract the `states`, `actions`, `rewards`, `next_states`, and `done_vals`. You should keep in mind that these variables are *TensorFlow Tensors* whose size will depend on the mini-batch size. For example, if the mini-batch size is `64` then both `rewards` and `done_vals` will be TensorFlow Tensors with `64` elements.\n",
    "\n",
    "\n",
    "* Using `if/else` statements to set the $y$ targets will not work when the variables are tensors with many elements. However, notice that you can use the `done_vals` to implement the above in a single line of code. To do this, recall that the `done` variable is a Boolean variable that takes the value `True` when an episode terminates at step $j+1$ and it is `False` otherwise. Taking into account that a Boolean value of `True` has the numerical value of `1` and a Boolean value of `False` has the numerical value of `0`, you can use the factor `(1 - done_vals)` to implement the above in a single line of code. Here's a hint: notice that `(1 - done_vals)` has a value of `0` when `done_vals` is `True` and a value of `1` when `done_vals` is `False`. \n",
    "\n",
    "Lastly, compute the loss by calculating the Mean-Squared Error (`MSE`) between the `y_targets` and the `q_values`. To calculate the mean-squared error you should use the already imported package `MSE`:\n",
    "```python\n",
    "from tensorflow.keras.losses import MSE\n",
    "```"
   ]
  },
  {
   "cell_type": "code",
   "execution_count": 25,
   "metadata": {
    "deletable": false
   },
   "outputs": [],
   "source": [
    "# UNQ_C2\n",
    "# GRADED FUNCTION: calculate_loss\n",
    "\n",
    "def compute_loss(experiences, gamma, q_network, target_q_network):\n",
    "    \"\"\" \n",
    "    Calculates the loss.\n",
    "    \n",
    "    Args:\n",
    "      experiences: (tuple) tuple of [\"state\", \"action\", \"reward\", \"next_state\", \"done\"] namedtuples\n",
    "      gamma: (float) The discount factor.\n",
    "      q_network: (tf.keras.Sequential) Keras model for predicting the q_values\n",
    "      target_q_network: (tf.keras.Sequential) Keras model for predicting the targets\n",
    "          \n",
    "    Returns:\n",
    "      loss: (TensorFlow Tensor(shape=(0,), dtype=int32)) the Mean-Squared Error between\n",
    "            the y targets and the Q(s,a) values.\n",
    "    \"\"\"\n",
    "\n",
    "    # Unpack the mini-batch of experience tuples\n",
    "    states, actions, rewards, next_states, done_vals = experiences\n",
    "    \n",
    "    # Compute max Q^(s,a)\n",
    "    max_qsa = tf.reduce_max(target_q_network(next_states), axis=-1)\n",
    "    \n",
    "    # Set y = R if episode terminates, otherwise set y = R + γ max Q^(s,a).\n",
    "    ### START CODE HERE ### \n",
    "    y_targets = rewards + (1 - done_vals) *  gamma * max_qsa\n",
    "    ### END CODE HERE ###\n",
    "    \n",
    "    # Get the q_values and reshape to match y_targets\n",
    "    q_values = q_network(states)\n",
    "    q_values = tf.gather_nd(q_values, tf.stack([tf.range(q_values.shape[0]),\n",
    "                                                tf.cast(actions, tf.int32)], axis=1))\n",
    "        \n",
    "    # Compute the loss\n",
    "    ### START CODE HERE ### \n",
    "    loss = MSE(y_targets, q_values)  # goal: y_targets --> q_values\n",
    "    ### END CODE HERE ### \n",
    "    \n",
    "    return loss"
   ]
  },
  {
   "cell_type": "code",
   "execution_count": 26,
   "metadata": {
    "deletable": false,
    "editable": false
   },
   "outputs": [
    {
     "name": "stdout",
     "output_type": "stream",
     "text": [
      "\u001b[92mAll tests passed!\n"
     ]
    }
   ],
   "source": [
    "# UNIT TEST    \n",
    "test_compute_loss(compute_loss)"
   ]
  },
  {
   "cell_type": "markdown",
   "metadata": {},
   "source": [
    "<details>\n",
    "  <summary><font size=\"3\" color=\"darkgreen\"><b>Click for hints</b></font></summary>\n",
    "    \n",
    "```python\n",
    "def compute_loss(experiences, gamma, q_network, target_q_network):\n",
    "    \"\"\" \n",
    "    Calculates the loss.\n",
    "    \n",
    "    Args:\n",
    "      experiences: (tuple) tuple of [\"state\", \"action\", \"reward\", \"next_state\", \"done\"] namedtuples\n",
    "      gamma: (float) The discount factor.\n",
    "      q_network: (tf.keras.Sequential) Keras model for predicting the q_values\n",
    "      target_q_network: (tf.keras.Sequential) Keras model for predicting the targets\n",
    "          \n",
    "    Returns:\n",
    "      loss: (TensorFlow Tensor(shape=(0,), dtype=int32)) the Mean-Squared Error between\n",
    "            the y targets and the Q(s,a) values.\n",
    "    \"\"\"\n",
    "\n",
    "    \n",
    "    # Unpack the mini-batch of experience tuples\n",
    "    states, actions, rewards, next_states, done_vals = experiences\n",
    "    \n",
    "    # Compute max Q^(s,a)\n",
    "    max_qsa = tf.reduce_max(target_q_network(next_states), axis=-1)\n",
    "    \n",
    "    # Set y = R if episode terminates, otherwise set y = R + γ max Q^(s,a).\n",
    "    y_targets = rewards + (gamma * max_qsa * (1 - done_vals))\n",
    "    \n",
    "    # Get the q_values\n",
    "    q_values = q_network(states)\n",
    "    q_values = tf.gather_nd(q_values, tf.stack([tf.range(q_values.shape[0]),\n",
    "                                                tf.cast(actions, tf.int32)], axis=1))\n",
    "    \n",
    "    # Calculate the loss\n",
    "    loss = MSE(y_targets, q_values)\n",
    "    \n",
    "    return loss\n",
    "\n",
    "``` \n",
    "    "
   ]
  },
  {
   "cell_type": "markdown",
   "metadata": {},
   "source": [
    "<a name=\"8\"></a>\n",
    "## 8 - Update the Network Weights\n",
    "\n",
    "We will use the `agent_learn` function below to implement lines ***12 -14*** of the algorithm outlined in [Fig 3](#7). The `agent_learn` function will update the weights of the $Q$ and target $\\hat Q$ networks using a custom training loop. Because we are using a custom training loop we need to retrieve the gradients via a `tf.GradientTape` instance, and then call `optimizer.apply_gradients()` to update the weights of our $Q$-Network. Note that we are also using the `@tf.function` decorator to increase performance. Without this decorator our training will take twice as long. If you would like to know more about how to increase performance with `@tf.function` take a look at the [TensorFlow documentation](https://www.tensorflow.org/guide/function).\n",
    "\n",
    "The last line of this function updates the weights of the target $\\hat Q$-Network using a [soft update](#6.1). If you want to know how this is implemented in code we encourage you to take a look at the `utils.update_target_network` function in the `utils` module."
   ]
  },
  {
   "cell_type": "code",
   "execution_count": 28,
   "metadata": {
    "deletable": false
   },
   "outputs": [],
   "source": [
    "@tf.function\n",
    "def agent_learn(experiences, gamma):\n",
    "    \"\"\"\n",
    "    Updates the weights of the Q networks.\n",
    "    \n",
    "    Args:\n",
    "      experiences: (tuple) tuple of [\"state\", \"action\", \"reward\", \"next_state\", \"done\"] namedtuples\n",
    "      gamma: (float) The discount factor.\n",
    "    \n",
    "    \"\"\"\n",
    "    \n",
    "    # Calculate the loss\n",
    "    with tf.GradientTape() as tape:\n",
    "        loss = compute_loss(experiences, gamma, q_network, target_q_network)\n",
    "\n",
    "    # Get the gradients of the loss with respect to the weights.\n",
    "    gradients = tape.gradient(loss, q_network.trainable_variables)\n",
    "    \n",
    "    # Update the weights of the q_network.\n",
    "    optimizer.apply_gradients(zip(gradients, q_network.trainable_variables))\n",
    "\n",
    "    # update the weights of target q_network\n",
    "    utils.update_target_network(q_network, target_q_network)\n",
    "#     for target_weights, q_net_weights in zip(\n",
    "#         target_q_network.weights, q_network.weights\n",
    "#     ):\n",
    "#         target_weights.assign(TAU * q_net_weights + (1.0 - TAU) * target_weights)"
   ]
  },
  {
   "cell_type": "markdown",
   "metadata": {},
   "source": [
    "<a name=\"9\"></a>\n",
    "## 9 - Train the Agent\n",
    "\n",
    "We are now ready to train our agent to solve the Lunar Lander environment. In the cell below we will implement the algorithm in [Fig 3](#7) line by line (please note that we have included the same algorithm below for easy reference. This will prevent you from scrolling up and down the notebook):\n",
    "\n",
    "* **Line 1**: We initialize the `memory_buffer` with a capacity of $N =$ `MEMORY_SIZE`. Notice that we are using a `deque` as the data structure for our `memory_buffer`.\n",
    "\n",
    "\n",
    "* **Line 2**: We skip this line since we already initialized the `q_network` in [Exercise 1](#ex01).\n",
    "\n",
    "\n",
    "* **Line 3**: We initialize the `target_q_network` by setting its weights to be equal to those of the `q_network`.\n",
    "\n",
    "\n",
    "* **Line 4**: We start the outer loop. Notice that we have set $M =$ `num_episodes = 2000`. This number is reasonable because the agent should be able to solve the Lunar Lander environment in less than `2000` episodes using this notebook's default parameters.\n",
    "\n",
    "\n",
    "* **Line 5**: We use the `.reset()` method to reset the environment to the initial state and get the initial state.\n",
    "\n",
    "\n",
    "* **Line 6**: We start the inner loop. Notice that we have set $T =$ `max_num_timesteps = 1000`. This means that the episode will automatically terminate if the episode hasn't terminated after `1000` time steps.\n",
    "\n",
    "\n",
    "* **Line 7**: The agent observes the current `state` and chooses an `action` using an $\\epsilon$-greedy policy. Our agent starts out using a value of $\\epsilon =$ `epsilon = 1` which yields an $\\epsilon$-greedy policy that is equivalent to the equiprobable random policy. This means that at the beginning of our training, the agent is just going to take random actions regardless of the observed `state`. As training progresses we will decrease the value of $\\epsilon$ slowly towards a minimum value using a given $\\epsilon$-decay rate. We want this minimum value to be close to zero because a value of $\\epsilon = 0$ will yield an $\\epsilon$-greedy policy that is equivalent to the greedy policy. This means that towards the end of training, the agent will lean towards selecting the `action` that it believes (based on its past experiences) will maximize $Q(s,a)$. We will set the minimum $\\epsilon$ value to be `0.01` and not exactly 0 because we always want to keep a little bit of exploration during training. If you want to know how this is implemented in code we encourage you to take a look at the `utils.get_action` function in the `utils` module.\n",
    "\n",
    "\n",
    "* **Line 8**: We use the `.step()` method to take the given `action` in the environment and get the `reward` and the `next_state`. \n",
    "\n",
    "\n",
    "* **Line 9**: We store the `experience(state, action, reward, next_state, done)` tuple in our `memory_buffer`. Notice that we also store the `done` variable so that we can keep track of when an episode terminates. This allowed us to set the $y$ targets in [Exercise 2](#ex02).\n",
    "\n",
    "\n",
    "* **Line 10**: We check if the conditions are met to perform a learning update. We do this by using our custom `utils.check_update_conditions` function. This function checks if $C =$ `NUM_STEPS_FOR_UPDATE = 4` time steps have occured and if our `memory_buffer` has enough experience tuples to fill a mini-batch. For example, if the mini-batch size is `64`, then our `memory_buffer` should have more than `64` experience tuples in order to pass the latter condition. If the conditions are met, then the `utils.check_update_conditions` function will return a value of `True`, otherwise it will return a value of `False`.\n",
    "\n",
    "\n",
    "* **Lines 11 - 14**: If the `update` variable is `True` then we perform a learning update. The learning update consists of sampling a random mini-batch of experience tuples from our `memory_buffer`, setting the $y$ targets, performing gradient descent, and updating the weights of the networks. We will use the `agent_learn` function we defined in [Section 8](#8) to perform the latter 3.\n",
    "\n",
    "\n",
    "* **Line 15**: At the end of each iteration of the inner loop we set `next_state` as our new `state` so that the loop can start again from this new state. In addition, we check if the episode has reached a terminal state (i.e we check if `done = True`). If a terminal state has been reached, then we break out of the inner loop.\n",
    "\n",
    "\n",
    "* **Line 16**: At the end of each iteration of the outer loop we update the value of $\\epsilon$, and check if the environment has been solved. We consider that the environment has been solved if the agent receives an average of `200` points in the last `100` episodes. If the environment has not been solved we continue the outer loop and start a new episode.\n",
    "\n",
    "Finally, we wanted to note that we have included some extra variables to keep track of the total number of points the agent received in each episode. This will help us determine if the agent has solved the environment and it will also allow us to see how our agent performed during training. We also use the `time` module to measure how long the training takes. \n",
    "\n",
    "<br>\n",
    "<br>\n",
    "<figure>\n",
    "  <img src = \"images/deep_q_algorithm.png\" width = 90% style = \"border: thin silver solid; padding: 0px\">\n",
    "      <figcaption style = \"text-align: center; font-style: italic\">Fig 4. Deep Q-Learning with Experience Replay.</figcaption>\n",
    "</figure>\n",
    "<br>\n",
    "\n",
    "**Note:** With this notebook's default parameters, the following cell takes between 10 to 15 minutes to run. "
   ]
  },
  {
   "cell_type": "code",
   "execution_count": 29,
   "metadata": {
    "deletable": false,
    "editable": false
   },
   "outputs": [
    {
     "name": "stdout",
     "output_type": "stream",
     "text": [
      "Episode 100 | Total point average of the last 100 episodes: -154.36\n",
      "Episode 200 | Total point average of the last 100 episodes: -142.74\n",
      "Episode 300 | Total point average of the last 100 episodes: -84.411\n",
      "Episode 400 | Total point average of the last 100 episodes: -50.23\n",
      "Episode 500 | Total point average of the last 100 episodes: -11.74\n",
      "Episode 600 | Total point average of the last 100 episodes: 121.79\n",
      "Episode 700 | Total point average of the last 100 episodes: 173.46\n",
      "Episode 736 | Total point average of the last 100 episodes: 200.77\n",
      "\n",
      "Environment solved in 736 episodes!\n",
      "\n",
      "Total Runtime: 1003.93 s (16.73 min)\n"
     ]
    }
   ],
   "source": [
    "start = time.time()\n",
    "\n",
    "num_episodes = 2000\n",
    "max_num_timesteps = 1000\n",
    "\n",
    "total_point_history = []\n",
    "\n",
    "num_p_av = 100    # number of total points to use for averaging\n",
    "epsilon = 1.0     # initial ε value for ε-greedy policy\n",
    "\n",
    "# Create a memory buffer D with capacity N\n",
    "memory_buffer = deque(maxlen=MEMORY_SIZE)\n",
    "\n",
    "# Set the target network weights equal to the Q-Network weights\n",
    "target_q_network.set_weights(q_network.get_weights())\n",
    "\n",
    "for i in range(num_episodes):\n",
    "    \n",
    "    # Reset the environment to the initial state and get the initial state\n",
    "    state = env.reset()\n",
    "    total_points = 0\n",
    "    \n",
    "    for t in range(max_num_timesteps):\n",
    "        \n",
    "        # From the current state S choose an action A using an ε-greedy policy\n",
    "        state_qn = np.expand_dims(state, axis=0)  # state needs to be the right shape for the q_network\n",
    "        q_values = q_network(state_qn)\n",
    "        action = utils.get_action(q_values, epsilon)\n",
    "        \n",
    "        # Take action A and receive reward R and the next state S'\n",
    "        next_state, reward, done, _ = env.step(action)\n",
    "        \n",
    "        # Store experience tuple (S,A,R,S') in the memory buffer.\n",
    "        # We store the done variable as well for convenience.\n",
    "        memory_buffer.append(experience(state, action, reward, next_state, done))\n",
    "        \n",
    "        # Only update the network every NUM_STEPS_FOR_UPDATE time steps.\n",
    "        update = utils.check_update_conditions(t, NUM_STEPS_FOR_UPDATE, memory_buffer)\n",
    "        \n",
    "        if update:\n",
    "            # Sample random mini-batch of experience tuples (S,A,R,S') from D\n",
    "            experiences = utils.get_experiences(memory_buffer)\n",
    "            \n",
    "            # Set the y targets, perform a gradient descent step,\n",
    "            # and update the network weights.\n",
    "            agent_learn(experiences, GAMMA)\n",
    "        \n",
    "        state = next_state.copy()\n",
    "        total_points += reward\n",
    "        \n",
    "        if done:\n",
    "            break\n",
    "            \n",
    "    total_point_history.append(total_points)\n",
    "    av_latest_points = np.mean(total_point_history[-num_p_av:])\n",
    "    \n",
    "    # Update the ε value\n",
    "    epsilon = utils.get_new_eps(epsilon)\n",
    "\n",
    "    print(f\"\\rEpisode {i+1} | Total point average of the last {num_p_av} episodes: {av_latest_points:.2f}\", end=\"\")\n",
    "\n",
    "    if (i+1) % num_p_av == 0:\n",
    "        print(f\"\\rEpisode {i+1} | Total point average of the last {num_p_av} episodes: {av_latest_points:.2f}\")\n",
    "\n",
    "    # We will consider that the environment is solved if we get an\n",
    "    # average of 200 points in the last 100 episodes.\n",
    "    if av_latest_points >= 200.0:\n",
    "        print(f\"\\n\\nEnvironment solved in {i+1} episodes!\")\n",
    "        q_network.save('lunar_lander_model.h5')\n",
    "        break\n",
    "        \n",
    "tot_time = time.time() - start\n",
    "\n",
    "print(f\"\\nTotal Runtime: {tot_time:.2f} s ({(tot_time/60):.2f} min)\")"
   ]
  },
  {
   "cell_type": "markdown",
   "metadata": {},
   "source": [
    "We can plot the total point history along with the moving average to see how our agent improved during training. If you want to know about the different plotting options available in the `utils.plot_history` function we encourage you to take a look at the `utils` module."
   ]
  },
  {
   "cell_type": "code",
   "execution_count": 40,
   "metadata": {
    "deletable": false,
    "id": "E_EUXxurfe8m",
    "scrolled": false
   },
   "outputs": [
    {
     "data": {
      "image/png": "[encoded data removed]",
      "text/plain": [
       "<Figure size 720x504 with 1 Axes>"
      ]
     },
     "metadata": {},
     "output_type": "display_data"
    }
   ],
   "source": [
    "# Plot the total point history along with the moving average\n",
    "utils.plot_history(total_point_history)\n",
    "# utils.plot_history(total_point_history, \"window_size\")\n",
    "# utils.plot_history(total_point_history, \"lower_limit\")\n",
    "# utils.plot_history(total_point_history, \"upper_limit\")\n",
    "# utils.plot_history(total_point_history, \"plot_data_only\")\n",
    "# utils.plot_history(total_point_history, \"plot_rolling_mean_only\") # Use Pandas to calculate the rolling mean (moving average)."
   ]
  },
  {
   "cell_type": "markdown",
   "metadata": {
    "id": "c_xwgaX5MnYt"
   },
   "source": [
    "<a name=\"10\"></a>\n",
    "## 10 - See the Trained Agent In Action\n",
    "\n",
    "Now that we have trained our agent, we can see it in action. We will use the `utils.create_video` function to create a video of our agent interacting with the environment using the trained $Q$-Network. The `utils.create_video` function uses the `imageio` library to create the video. This library produces some warnings that can be distracting, so, to suppress these warnings we run the code below."
   ]
  },
  {
   "cell_type": "code",
   "execution_count": 41,
   "metadata": {
    "deletable": false,
    "editable": false
   },
   "outputs": [],
   "source": [
    "# Suppress warnings from imageio\n",
    "import logging\n",
    "logging.getLogger().setLevel(logging.ERROR)"
   ]
  },
  {
   "cell_type": "markdown",
   "metadata": {},
   "source": [
    "In the cell below we create a video of our agent interacting with the Lunar Lander environment using the trained `q_network`. The video is saved to the `videos` folder with the given `filename`. We use the `utils.embed_mp4` function to embed the video in the Jupyter Notebook so that we can see it here directly without having to download it.\n",
    "\n",
    "We should note that since the lunar lander starts with a random initial force applied to its center of mass, every time you run the cell below you will see a different video. If the agent was trained properly, it should be able to land the lunar lander in the landing pad every time, regardless of the initial force applied to its center of mass."
   ]
  },
  {
   "cell_type": "code",
   "execution_count": 44,
   "metadata": {
    "deletable": false,
    "id": "3Ttb_zLeJKiG"
   },
   "outputs": [
    {
     "data": {
      "text/html": [
       "\n",
       "    <video width=\"840\" height=\"480\" controls>\n",
       "    <source src=\"data:video/mp4;base64,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\" type=\"video/mp4\">\n",
       "    Your browser does not support the video tag.\n",
       "    </video>"
      ],
      "text/plain": [
       "<IPython.core.display.HTML object>"
      ]
     },
     "execution_count": 44,
     "metadata": {},
     "output_type": "execute_result"
    }
   ],
   "source": [
    "filename = \"./videos/lunar_lander.mp4\"\n",
    "\n",
    "utils.create_video(filename, env, q_network)\n",
    "# with imageio.get_writer(filename, fps=fps) as video:\n",
    "#         done = False\n",
    "#         state = env.reset()\n",
    "#         frame = env.render(mode=\"rgb_array\")\n",
    "#         video.append_data(frame)\n",
    "#         while not done:\n",
    "#             state = np.expand_dims(state, axis=0)\n",
    "#             q_values = q_network(state)\n",
    "#             action = np.argmax(q_values.numpy()[0])\n",
    "#             state, _, done, _ = env.step(action)\n",
    "#             frame = env.render(mode=\"rgb_array\")\n",
    "#             video.append_data(frame)\n",
    "utils.embed_mp4(filename)\n",
    "# video = open(filename, \"rb\").read()\n",
    "#     b64 = base64.b64encode(video)\n",
    "#     tag = \"\"\"\n",
    "#     <video width=\"840\" height=\"480\" controls>\n",
    "#     <source src=\"data:video/mp4;base64,{0}\" type=\"video/mp4\">\n",
    "#     Your browser does not support the video tag.\n",
    "#     </video>\"\"\".format(\n",
    "#         b64.decode()\n",
    "#     )\n",
    "\n",
    "#     return IPython.display.HTML(tag)"
   ]
  },
  {
   "cell_type": "markdown",
   "metadata": {},
   "source": [
    "<a name=\"11\"></a>\n",
    "## 11 - Congratulations!\n",
    "\n",
    "You have successfully used Deep Q-Learning with Experience Replay to train an agent to land a lunar lander safely on a landing pad on the surface of the moon. Congratulations!"
   ]
  },
  {
   "cell_type": "markdown",
   "metadata": {},
   "source": [
    "<a name=\"12\"></a>\n",
    "## 12 - References\n",
    "\n",
    "If you would like to learn more about Deep Q-Learning, we recommend you check out the following papers.\n",
    "\n",
    "\n",
    "* Mnih, V., Kavukcuoglu, K., Silver, D. et al. Human-level control through deep reinforcement learning. Nature 518, 529–533 (2015).\n",
    "\n",
    "\n",
    "* Lillicrap, T. P., Hunt, J. J., Pritzel, A., et al. Continuous Control with Deep Reinforcement Learning. ICLR (2016).\n",
    "\n",
    "\n",
    "* Mnih, V., Kavukcuoglu, K., Silver, D. et al. Playing Atari with Deep Reinforcement Learning. arXiv e-prints.  arXiv:1312.5602 (2013)."
   ]
  },
  {
   "cell_type": "markdown",
   "metadata": {},
   "source": [
    "<details>\n",
    "  <summary><font size=\"2\" color=\"darkgreen\"><b>Please click here if you want to experiment with any of the non-graded code.</b></font></summary>\n",
    "    <p><i><b>Important Note: Please only do this when you've already passed the assignment to avoid problems with the autograder.</b></i>\n",
    "    <ol>\n",
    "        <li> On the notebook’s menu, click “View” > “Cell Toolbar” > “Edit Metadata”</li>\n",
    "        <li> Hit the “Edit Metadata” button next to the code cell which you want to lock/unlock</li>\n",
    "        <li> Set the attribute value for “editable” to:\n",
    "            <ul>\n",
    "                <li> “true” if you want to unlock it </li>\n",
    "                <li> “false” if you want to lock it </li>\n",
    "            </ul>\n",
    "        </li>\n",
    "        <li> On the notebook’s menu, click “View” > “Cell Toolbar” > “None” </li>\n",
    "    </ol>\n",
    "    <p> Here's a short demo of how to do the steps above: \n",
    "        <br>\n",
    "        <img src=\"https://drive.google.com/uc?export=view&id=14Xy_Mb17CZVgzVAgq7NCjMVBvSae3xO1\" align=\"center\" alt=\"unlock_cells.gif\">\n",
    "</details>"
   ]
  }
 ],
 "metadata": {
  "accelerator": "GPU",
  "colab": {
   "collapsed_sections": [],
   "name": "TensorFlow - Lunar Lander.ipynb",
   "provenance": []
  },
  "kernelspec": {
   "display_name": "Python 3",
   "language": "python",
   "name": "python3"
  },
  "language_info": {
   "codemirror_mode": {
    "name": "ipython",
    "version": 3
   },
   "file_extension": ".py",
   "mimetype": "text/x-python",
   "name": "python",
   "nbconvert_exporter": "python",
   "pygments_lexer": "ipython3",
   "version": "3.7.6"
  }
 },
 "nbformat": 4,
 "nbformat_minor": 1
}
